{
  "cells": [
    {
      "cell_type": "markdown",
      "metadata": {},
      "source": [
        "# PPW Crawling Berita"
      ]
    },
    {
      "cell_type": "markdown",
      "metadata": {},
      "source": [
        "Dibuat Oleh:\n",
        "\n",
        "Nama : Zainal Arifin\n",
        "\n",
        "NIM : 220411100103\n",
        "\n",
        "Kelas : PPW A\n",
        "\n",
        "Link Git : https://github.com/220411100103-Zainal-Arifin/PPW"
      ]
    },
    {
      "cell_type": "markdown",
      "metadata": {},
      "source": [
        "## Pengertian Crawling"
      ]
    },
    {
      "cell_type": "markdown",
      "metadata": {},
      "source": [
        "Crawling adalah proses yang digunakan oleh search engine untuk menjelajahi atau merayapi website untuk mendapatkan informasi sebagai respons terhadap kueri yang diberikan. Proses ini dilakukan dengan bantuan bot yang dikenal dengan nama web crawler atau crawler. Crawler adalah mesin pencari bot yang khusus digunakan untuk mencari, mengunjungi, dan menganalisis konten situs web dan informasi lainnya di internet. Crawling data bertujuan untuk mengumpulkan data secara otomatis dari website dan membangun indeks data untuk digunakan mesin pencari."
      ]
    },
    {
      "cell_type": "markdown",
      "metadata": {},
      "source": [
        "### Proses Crawling"
      ]
    },
    {
      "cell_type": "markdown",
      "metadata": {},
      "source": [
        "#### Tool atau Library"
      ]
    },
    {
      "cell_type": "code",
      "execution_count": 59,
      "metadata": {
        "id": "FbxTGNGLOn9F"
      },
      "outputs": [],
      "source": [
        "import pandas as pd\n",
        "from selenium import webdriver\n",
        "from selenium.webdriver.common.by import By\n",
        "import time"
      ]
    },
    {
      "cell_type": "markdown",
      "metadata": {},
      "source": [
        "- Pandas digunakan untuk membuat dataframe agar mudah dibaca.\n",
        "- Selenium digunakan untuk mengotomatiskan browser agar dapat berinteraksi dengan elemen-elemen di halaman web.\n",
        "- Time berfungsi untuk memberikan jeda ketika ingin berpindah halaman.\n"
      ]
    },
    {
      "cell_type": "markdown",
      "metadata": {},
      "source": [
        "#### Code Program"
      ]
    },
    {
      "cell_type": "markdown",
      "metadata": {},
      "source": [
        "##### Fungsi web_driver()"
      ]
    },
    {
      "cell_type": "code",
      "execution_count": 60,
      "metadata": {
        "id": "IBcgVhLUOr3z"
      },
      "outputs": [],
      "source": [
        "def web_driver():\n",
        "    options = webdriver.ChromeOptions()\n",
        "    options.add_argument('--headless')\n",
        "    options.add_argument('--no-sandbox')\n",
        "    options.add_argument('--disable-dev-shm-usage')\n",
        "    driver = webdriver.Chrome(options=options)\n",
        "    return driver"
      ]
    },
    {
      "cell_type": "markdown",
      "metadata": {},
      "source": [
        "Fungsi untuk menginisialisasi browser Chrome secara otomatis dengan opsi headless, tanpa tampilan grafis."
      ]
    },
    {
      "cell_type": "code",
      "execution_count": 61,
      "metadata": {
        "id": "nZsRNvbYOt0K"
      },
      "outputs": [],
      "source": [
        "driver = web_driver()"
      ]
    },
    {
      "cell_type": "markdown",
      "metadata": {},
      "source": [
        "Digunakan untuk memanggil fungsi web_driver()"
      ]
    },
    {
      "cell_type": "markdown",
      "metadata": {},
      "source": [
        "##### Fungsi driver.get"
      ]
    },
    {
      "cell_type": "code",
      "execution_count": 62,
      "metadata": {
        "id": "a5qDXMwrO4VN"
      },
      "outputs": [],
      "source": [
        "driver.get(\"https://tirto.id/news/news-plus\")"
      ]
    },
    {
      "cell_type": "markdown",
      "metadata": {},
      "source": [
        "Mengarahkan browser otomatis yang diinisialisasi oleh Selenium ke URL \"https://tirto.id/news/news-plus\"."
      ]
    },
    {
      "cell_type": "markdown",
      "metadata": {},
      "source": [
        "##### Fungsi find_elements(By.XPATH,'')"
      ]
    },
    {
      "cell_type": "code",
      "execution_count": 63,
      "metadata": {
        "id": "ci2gfZmfO7Qu"
      },
      "outputs": [],
      "source": [
        "contoh = driver.find_elements(By.XPATH, '//*[@id=\"main\"]/section[2]/div/div[2]/div/div[1]/div/div[2]/h3/a')"
      ]
    },
    {
      "cell_type": "markdown",
      "metadata": {},
      "source": [
        "Menemukan semua elemen yang berisi judul artikel pada halaman web"
      ]
    },
    {
      "cell_type": "markdown",
      "metadata": {},
      "source": [
        "##### Fungsi get_attribute('href')"
      ]
    },
    {
      "cell_type": "code",
      "execution_count": 64,
      "metadata": {
        "id": "-3MoyG9gO-Vf"
      },
      "outputs": [],
      "source": [
        "urls = [link.get_attribute('href') for link in contoh]"
      ]
    },
    {
      "cell_type": "markdown",
      "metadata": {},
      "source": [
        "Membuat daftar URL dari elemen-elemen yang ditemukan pada variabel contoh"
      ]
    },
    {
      "cell_type": "code",
      "execution_count": 65,
      "metadata": {
        "id": "h7xwduOLUFWk"
      },
      "outputs": [],
      "source": [
        "data_list = []"
      ]
    },
    {
      "cell_type": "markdown",
      "metadata": {},
      "source": [
        "##### Main Crawling"
      ]
    },
    {
      "cell_type": "code",
      "execution_count": 66,
      "metadata": {
        "id": "BmIa59p_TMp_"
      },
      "outputs": [],
      "source": [
        "for i in contoh:\n",
        "    url = i.get_attribute('href')\n",
        "    if url:\n",
        "        driver.get(url)\n",
        "        time.sleep(2)\n",
        "\n",
        "        try:\n",
        "            judul = driver.find_element(By.XPATH, './/*[@id=\"main\"]/section[1]/div/article/header/div[1]/h1').text\n",
        "            kategori = driver.find_element(By.XPATH, './/*[@id=\"main\"]/section[1]/div/article/div[2]/div[1]/div[3]/div[4]/div[1]').text\n",
        "            tanggal = driver.find_element(By.XPATH, './/*[@id=\"main\"]/section[1]/div/article/header/div[2]/div[1]/div[1]/div').text\n",
        "\n",
        "            isi = driver.find_element(By.XPATH, '//*[@id=\"main\"]/section[1]/div/article/div[2]/div[1]')\n",
        "            isibos = []\n",
        "            isii = isi.find_elements(By.TAG_NAME, \"p\")\n",
        "            for p in isii:\n",
        "                isibos.append(p.text)\n",
        "\n",
        "            # Store the data in a dictionary\n",
        "            data = {\n",
        "                \"Judul\": judul,\n",
        "                \"Kategori\": kategori,\n",
        "                \"Tanggal\": tanggal,\n",
        "                \"Isi\": \" \".join(isibos)  # Combine all paragraphs into one string\n",
        "            }\n",
        "            data_list.append(data)\n",
        "\n",
        "        except Exception as e:\n",
        "            print(f\"Data not found on {url}. Error: {e}\")\n",
        "\n",
        "        driver.back()\n",
        "        time.sleep(2)"
      ]
    },
    {
      "cell_type": "markdown",
      "metadata": {},
      "source": [
        "Mengunjungi setiap URL berita, mengambil informasi judul, isi, tanggal, dan kategori, lalu menyimpannya"
      ]
    },
    {
      "cell_type": "markdown",
      "metadata": {},
      "source": [
        "##### Fungsi driver.quit()"
      ]
    },
    {
      "cell_type": "code",
      "execution_count": 67,
      "metadata": {
        "id": "IWUqkgQdU7Lf"
      },
      "outputs": [],
      "source": [
        "driver.quit()"
      ]
    },
    {
      "cell_type": "markdown",
      "metadata": {},
      "source": [
        "Menutup browser dan mengakhiri sesi Selenium"
      ]
    },
    {
      "cell_type": "markdown",
      "metadata": {},
      "source": [
        "##### Convert Dataframe\n"
      ]
    },
    {
      "cell_type": "code",
      "execution_count": 68,
      "metadata": {
        "colab": {
          "base_uri": "https://localhost:8080/",
          "height": 363
        },
        "id": "JGlyYONeEZhA",
        "outputId": "7923d6da-cf9b-48c6-faaa-d5e8bb4aceb0"
      },
      "outputs": [
        {
          "data": {
            "application/vnd.google.colaboratory.intrinsic+json": {
              "summary": "{\n  \"name\": \"df\",\n  \"rows\": 10,\n  \"fields\": [\n    {\n      \"column\": \"Judul\",\n      \"properties\": {\n        \"dtype\": \"string\",\n        \"num_unique_values\": 10,\n        \"samples\": [\n          \"Ide Parpol Baru Anies Baswedan Jangan Layu Sebelum Berkembang\",\n          \"Teladan Kesederhanaan Paus Fransiskus bagi Pejabat Indonesia\",\n          \"Raih Penghargaan, Heru Budi Harus Tetap Jaga Inflasi Jakarta\"\n        ],\n        \"semantic_type\": \"\",\n        \"description\": \"\"\n      }\n    },\n    {\n      \"column\": \"Kategori\",\n      \"properties\": {\n        \"dtype\": \"category\",\n        \"num_unique_values\": 1,\n        \"samples\": [\n          \"tirto.id - News\"\n        ],\n        \"semantic_type\": \"\",\n        \"description\": \"\"\n      }\n    },\n    {\n      \"column\": \"Tanggal\",\n      \"properties\": {\n        \"dtype\": \"string\",\n        \"num_unique_values\": 10,\n        \"samples\": [\n          \"Terbit 3 Sep 2024 07:00 WIB,\"\n        ],\n        \"semantic_type\": \"\",\n        \"description\": \"\"\n      }\n    },\n    {\n      \"column\": \"Isi\",\n      \"properties\": {\n        \"dtype\": \"string\",\n        \"num_unique_values\": 10,\n        \"samples\": [\n          \"tirto.id - Lewat video berdurasi 14:44 menit, Anies Baswedan akhirnya buka suara ke publik usai batal maju sebagai bakal calon gubernur di Pemilihan Kepala Daerah (Pilkada) 2024. Belakangan mantan calon presiden 2024 itu memang digadang-gadang untuk maju baik di Jakarta atau pun Jawa Barat. ADVERTISEMENT \\\"Ada yang usul supaya saya masuk partai atau bikin partai politik. Nah gini, kalau masuk partai, pertanyaannya partai mana yang sekarang tidak tersandera oleh kekuasaan? Jangankan dimasuki, mencalonkan saja terancam,\\\" kata Anies mengutip video YouTube pribadinya, Senin (2/9/2024). ADVERTISEMENT Anies lantas memberi sinyal akan membentuk partai politik baru usai gagal mengikuti kontestasi Pilkada serentak 2024. Dia mengaku wacana tersebut berdasarkan usulan yang diberikan masyarakat akhir-akhir ini. Wacana tersebut juga bisa saja diwujudkan jika semangat perubahan dari masyarakat Indonesia tak berhenti dan semakin membesar.  \\\"Maka membangun ormas atau membangun partai baru mungkin itu jalan yang akan kami tempuh kita lihat sama sama ke depan,\\\" jelas Anies.  Anies berharap wacana membangun partai politik baru dapat diwujudkan dalam waktu dekat. Dia berharap partai politik tersebut akan menjadi wadah bagi gerakan politik yang mengedepankan substansi dan kesetaraan dalam demokrasi. \\\"Semoga tidak terlalu lama lagi kita bisa mewujudkan langkah-langkah konkret untuk bisa mewadahi gerakan yang sekarang ini makin hari makin membesar. Menginginkan Indonesia yang lebih setara, demokrasi yang lebih sehat, politik yang lebih mengedepankan policy, gagasan,\\\" tegas dia.     Juru bicara Anies Baswedan, Sahrin Hamid, membenarkan rencana Anies untuk membuat partai politik baru. Bahkan, kata dia, saat ini sedang dalam perumusan tim di internal dan akan diumumkan dalam waktu dekat. \\u201cTentunya akan diumumkan ke publik pada saatnya,\\u201d kata Sahrin saat dikonfirmasi Tirto, Senin (2/9/2024). Sahrin menekankan, semangat dari pendirian parol baru ini adalah sebagaimana tujuannya yakni sarana partisipasi politik. Anies, kata Sahrin, ingin membangun sebuah bahtera politik baru sebagai alternatif kekuatan yang berbeda dengan ada saat ini. Direktur Eksekutif Skala Data Indonesia, Arif Nurul Imam, mengatakan jika Anies ingin tetap eksis di politik ada baiknya memang membangun parpol atau masuk parpol yang sudah ada. Membangun parpol dengan semangat perubahan, menurut Arif, tentu menjadi cita-cita mulia. \\u201cNamun begitu di politik praktis tentu banyak negosiasi dan kompromi politik sehingga bisa terjebak serupa dengan parpol yang telah ada saat ini,\\u201d ujar dia kepada Tirto, Senin (2/9/2024).     Arif mengatakan, jika benar Anies ingin membangun partai baru, maka kemudian ini bisa dibaca sebagai upaya menyiapkan kendaraan politiknya termasuk untuk Pilpres 2029. Namun menurut Analis Sosio-politik dari Institute for Security and Strategic Studies (ISESS), Musfi Romdoni, cukup berat bagi Anies membuat parpol baru untuk kendaraan di Pilpres 2029. Kecuali, kata Musfi, kasusnya seperti Pemilu 2009, di mana waktu itu Prabowo Subianto dapat maju di Pilpres 2009 meskipun Gerindra baru terbentuk pada 2008. Pemilihan legislatif (Pileg) 2009 saat itu dilaksanakan pada 9 April. Sedangkan Pilpres 9 Juli, sehingga pada saat itu Gerindra sudah punya kursi untuk bertarung di Pilpres 2009. \\u201cSedangkan kalau Pilpres 2029 sama dengan 2024 yang mana penyelenggaraannya serentak dengan pileg, partai baru Anies belum punya kursi sebagai modal maju,\\u201d kata dia kepada Tirto, Senin (2/9/2024). Sekali pun, katakanlah Pemilu 2029 sama dengan Pemilu 2009, Anies tidak punya sumber daya seperti Prabowo Subianto atau Surya Paloh untuk membuat partai barunya langsung punya mesin yang kuat. Akan tetapi jika sekedar untuk kendaraan agar tidak kehilangan panggung politik, menurutnya ini masih cukup masuk akal. \\u201cKarena dengan partai barunya Anies dapat terus relevan di perbincangan publik. Setidaknya dalam lima tahun ke depan, Anies dapat mengenalkan program-program progresif partainya sembari menjadi oposisi bagi pemerintah,\\u201d jelas dia. Namun terlepas dari potensi itu, menurut Musfi, Anies sendiri tidak benar-benar serius ingin mendirikan partai politik. Dia justu melihat pernyataan Anies kemarin lebih ke satire terhadap partai politik karena batal maju di Pilkada 2024. \\u201cAnies sangat pandai memainkan komunikasi politik. Saya kira ini bagian dari cara Anies untuk tetap diperbincangkan. Kalimat mendirikan partai ini kan sangat menarik, Anies jadi diperbincangkan secara nasional meskipun tidak maju di Pilkada,\\u201d tutur Musfi.   Di sisi lain, peneliti politik senior Badan Riset dan Inovasi Nasional (BRIN), Firman Noor, menyoroti bahwa untuk mendirikan dan menjalankan parpol baru itu sangat mahal. Karena ini sudah menjadi rahasia umum, kehidupan politik di Indonesia berbiaya sangat tinggi. Sebagai partai politik baru, tentu Anies tidak mudah untuk mendapatkan dana besar tersebut. Satu-satunya jalan yang paling memungkinkan adalah mendapatkan dukungan dana dari orang-orang yang punya modal besar seperti para pengusaha. Masalahnya, kata Firman, apakah Anies mampu membuat sejumlah pengusaha tertarik untuk mendukung pendanaan partainya. \\u201cTapi intinya saya belum melihat ada pemodal besar. Karena tanpa itu susah. Idealisme itu susah berkembang,\\u201d ujar dia saat dihubungi Tirto, Senin (2/9/2024).   Kehadiran parpol baru, lanjut Firman, juga bukan menjadi jaminan kendaraan di 2029 mendatang. Terlebih sudah banyak sejumlah tokoh di Indonesia yang mencoba mendirikan partai politik baru, tetapi tidak berhasil. Amien Rais, misalnya. Setelah keluar dari PAN, dia mendirikan Partai Ummat pada 2021, tetapi gagal meraih ambang batas parlemen. Demikian pula Din Syamsuddin yang mendirikan Partai Pelita pada 2022, tapi tidak berhasil lolos untuk menjadi peserta Pemilu 2024. \\u201cDan kalau hanya akan kefiguran, sudah banyak yang bertumbangan,\\u201d ujar dia. Firman sendiri mengakui, kehidupan kepartaian di lndonesia belum berbasis pada sistem, melainkan masih bergantung pada ketokohan atau figur. Ketika figur itu kuat dan mendapatkan dukungan luas dari publik, partainya pun berkembang pesat. Demikian pula sebaliknya. \\u201c[Partai] Ummat yang mengandalkan Amien Rais atau Partai Kebangkitan Nasional (PKN) yang mengandalkan Anas Urbaningrum [belum cukup]. Apalagi situasinya secara politik itu belum bisa diandalkan untuk bertarung secara ide. Kalau sekedar ada [parpol baru], saya kira bisa,\\u201d jelasnya.   Peneliti Senior Populi Center, Usep Saepul Ahyar, menambahkan jika dilihat dari hasil Pemilu 2024 kemarin hampir mayoritas bahkan dimenangkan oleh parpol-parpol lama. Sudah bisa dipastikan tidak ada parpol baru yang lolos ke senayan, sehingga ini mejadi tantangan sendiri untuk parpol baru, termasuk bagi Anies Baswedan. \\u201cPartai-partai baru itu relatif masih harus berjuang banyak ya. Termasuk PSI, Perindo, kemudian Garuda dan lain sebagainya,\\u201d ujar dia saat dihubungi Tirto, Senin (2/9/2024). Menurut Usep, jika Anies ingin tetap mendirikan parpol harus benar-benar mampu membuat identitas kepartaian yang berbeda dengan partai-partai lama. Jika selama ini dia sering bertumpu pada gagasan atau pemikiran, sudah seharusnya partai politik besutan Anies merumuskan sebuah gagasan politik yang berbeda dengan yang berlaku sekarang, sehingga bisa menarik minat warga. \\u201cKalau sama aja wataknya itu masyarakat juga \\u2018ya sudah lah, sebaiknya partai lama\\u2019. Tapi kan memang semangatnya perubahan untuk masalah demokrasi, bisa mengambil pembeda itu,\\u201d ujar dia. Sebagai contoh, sumber daya manusia partai yang didirikan Anies nanti diisi oleh orang-orang yang justru tidak puas dengan kinerja Presiden Joko Widodo (Jokowi) dan Prabowo Subianto. Jika orang-orang tersebut diakomodir dalam satu organisasi hingga menjadi pembeda dengan lain. \\u201cKemarin-kemarin ada semacam partai kayak PSI yang mungkin akan menjadi pembeda. Tapi ternyata layu sebelum berkembang. Dia wataknya ternyata sama aja kan dengan partai-partai yang lama. Ini tantangannya saya kira,\\u201d pungkas dia.  \"\n        ],\n        \"semantic_type\": \"\",\n        \"description\": \"\"\n      }\n    }\n  ]\n}",
              "type": "dataframe",
              "variable_name": "df"
            },
            "text/html": [
              "\n",
              "  <div id=\"df-65e072cc-f660-4b69-b4a1-3563c452f15e\" class=\"colab-df-container\">\n",
              "    <div>\n",
              "<style scoped>\n",
              "    .dataframe tbody tr th:only-of-type {\n",
              "        vertical-align: middle;\n",
              "    }\n",
              "\n",
              "    .dataframe tbody tr th {\n",
              "        vertical-align: top;\n",
              "    }\n",
              "\n",
              "    .dataframe thead th {\n",
              "        text-align: right;\n",
              "    }\n",
              "</style>\n",
              "<table border=\"1\" class=\"dataframe\">\n",
              "  <thead>\n",
              "    <tr style=\"text-align: right;\">\n",
              "      <th></th>\n",
              "      <th>Judul</th>\n",
              "      <th>Kategori</th>\n",
              "      <th>Tanggal</th>\n",
              "      <th>Isi</th>\n",
              "    </tr>\n",
              "  </thead>\n",
              "  <tbody>\n",
              "    <tr>\n",
              "      <th>0</th>\n",
              "      <td>Menagih Janji Sosialisasi Tol Solo-Jogja agar ...</td>\n",
              "      <td>tirto.id - News</td>\n",
              "      <td>Terbit 4 Sep 2024 11:50 WIB,</td>\n",
              "      <td>tirto.id - Tahapan pembangunan Tol Solo-Yogyak...</td>\n",
              "    </tr>\n",
              "    <tr>\n",
              "      <th>1</th>\n",
              "      <td>Teladan Kesederhanaan Paus Fransiskus bagi Pej...</td>\n",
              "      <td>tirto.id - News</td>\n",
              "      <td>Terbit 4 Sep 2024 10:00 WIB,</td>\n",
              "      <td>tirto.id - Paus Fransiskus tersenyum sambil me...</td>\n",
              "    </tr>\n",
              "    <tr>\n",
              "      <th>2</th>\n",
              "      <td>Nasib Kelas Menengah Rentan, Pemerintah Harusn...</td>\n",
              "      <td>tirto.id - News</td>\n",
              "      <td>Terbit 4 Sep 2024 08:00 WIB,</td>\n",
              "      <td>tirto.id - Badan Pusat Statistik (BPS) mencata...</td>\n",
              "    </tr>\n",
              "    <tr>\n",
              "      <th>3</th>\n",
              "      <td>Blunder Pramono Tawarkan Ide Jalan Layang Moto...</td>\n",
              "      <td>tirto.id - News</td>\n",
              "      <td>Terbit 4 Sep 2024 07:00 WIB,</td>\n",
              "      <td>tirto.id - Bakal calon Gubernur DKI Jakarta, P...</td>\n",
              "    </tr>\n",
              "    <tr>\n",
              "      <th>4</th>\n",
              "      <td>Menakar Kans Risma dan Luluk Colong Dominasi K...</td>\n",
              "      <td>tirto.id - News</td>\n",
              "      <td>Terbit 4 Sep 2024 06:00 WIB,</td>\n",
              "      <td>tirto.id - Pilkada Jatim 2024 menjadi gelangga...</td>\n",
              "    </tr>\n",
              "    <tr>\n",
              "      <th>5</th>\n",
              "      <td>Raih Penghargaan, Heru Budi Harus Tetap Jaga I...</td>\n",
              "      <td>tirto.id - News</td>\n",
              "      <td>Terbit 3 Sep 2024 13:36 WIB,</td>\n",
              "      <td>tirto.id - Badan Pusat Statistik (BPS) DKI Jak...</td>\n",
              "    </tr>\n",
              "    <tr>\n",
              "      <th>6</th>\n",
              "      <td>Kunjungan Bersejarah Paus Fransiskus Merajut D...</td>\n",
              "      <td>tirto.id - News</td>\n",
              "      <td>Terbit 3 Sep 2024 11:13 WIB,</td>\n",
              "      <td>tirto.id - Dua hari sebelum menjejakkan kaki d...</td>\n",
              "    </tr>\n",
              "    <tr>\n",
              "      <th>7</th>\n",
              "      <td>Wacana DPR Mengevaluasi MK, Pembegalan Konstit...</td>\n",
              "      <td>tirto.id - News</td>\n",
              "      <td>Terbit 3 Sep 2024 08:00 WIB,</td>\n",
              "      <td>tirto.id - Rencana DPR RI mengevaluasi kinerja...</td>\n",
              "    </tr>\n",
              "    <tr>\n",
              "      <th>8</th>\n",
              "      <td>Ide Parpol Baru Anies Baswedan Jangan Layu Seb...</td>\n",
              "      <td>tirto.id - News</td>\n",
              "      <td>Terbit 3 Sep 2024 07:00 WIB,</td>\n",
              "      <td>tirto.id - Lewat video berdurasi 14:44 menit, ...</td>\n",
              "    </tr>\n",
              "    <tr>\n",
              "      <th>9</th>\n",
              "      <td>Menyoal Sertifikasi Halal Truk Logistik yang K...</td>\n",
              "      <td>tirto.id - News</td>\n",
              "      <td>Terbit 3 Sep 2024 06:00 WIB,</td>\n",
              "      <td>tirto.id - Wacana penerapan sertifikasi halal ...</td>\n",
              "    </tr>\n",
              "  </tbody>\n",
              "</table>\n",
              "</div>\n",
              "    <div class=\"colab-df-buttons\">\n",
              "\n",
              "  <div class=\"colab-df-container\">\n",
              "    <button class=\"colab-df-convert\" onclick=\"convertToInteractive('df-65e072cc-f660-4b69-b4a1-3563c452f15e')\"\n",
              "            title=\"Convert this dataframe to an interactive table.\"\n",
              "            style=\"display:none;\">\n",
              "\n",
              "  <svg xmlns=\"http://www.w3.org/2000/svg\" height=\"24px\" viewBox=\"0 -960 960 960\">\n",
              "    <path d=\"M120-120v-720h720v720H120Zm60-500h600v-160H180v160Zm220 220h160v-160H400v160Zm0 220h160v-160H400v160ZM180-400h160v-160H180v160Zm440 0h160v-160H620v160ZM180-180h160v-160H180v160Zm440 0h160v-160H620v160Z\"/>\n",
              "  </svg>\n",
              "    </button>\n",
              "\n",
              "  <style>\n",
              "    .colab-df-container {\n",
              "      display:flex;\n",
              "      gap: 12px;\n",
              "    }\n",
              "\n",
              "    .colab-df-convert {\n",
              "      background-color: #E8F0FE;\n",
              "      border: none;\n",
              "      border-radius: 50%;\n",
              "      cursor: pointer;\n",
              "      display: none;\n",
              "      fill: #1967D2;\n",
              "      height: 32px;\n",
              "      padding: 0 0 0 0;\n",
              "      width: 32px;\n",
              "    }\n",
              "\n",
              "    .colab-df-convert:hover {\n",
              "      background-color: #E2EBFA;\n",
              "      box-shadow: 0px 1px 2px rgba(60, 64, 67, 0.3), 0px 1px 3px 1px rgba(60, 64, 67, 0.15);\n",
              "      fill: #174EA6;\n",
              "    }\n",
              "\n",
              "    .colab-df-buttons div {\n",
              "      margin-bottom: 4px;\n",
              "    }\n",
              "\n",
              "    [theme=dark] .colab-df-convert {\n",
              "      background-color: #3B4455;\n",
              "      fill: #D2E3FC;\n",
              "    }\n",
              "\n",
              "    [theme=dark] .colab-df-convert:hover {\n",
              "      background-color: #434B5C;\n",
              "      box-shadow: 0px 1px 3px 1px rgba(0, 0, 0, 0.15);\n",
              "      filter: drop-shadow(0px 1px 2px rgba(0, 0, 0, 0.3));\n",
              "      fill: #FFFFFF;\n",
              "    }\n",
              "  </style>\n",
              "\n",
              "    <script>\n",
              "      const buttonEl =\n",
              "        document.querySelector('#df-65e072cc-f660-4b69-b4a1-3563c452f15e button.colab-df-convert');\n",
              "      buttonEl.style.display =\n",
              "        google.colab.kernel.accessAllowed ? 'block' : 'none';\n",
              "\n",
              "      async function convertToInteractive(key) {\n",
              "        const element = document.querySelector('#df-65e072cc-f660-4b69-b4a1-3563c452f15e');\n",
              "        const dataTable =\n",
              "          await google.colab.kernel.invokeFunction('convertToInteractive',\n",
              "                                                    [key], {});\n",
              "        if (!dataTable) return;\n",
              "\n",
              "        const docLinkHtml = 'Like what you see? Visit the ' +\n",
              "          '<a target=\"_blank\" href=https://colab.research.google.com/notebooks/data_table.ipynb>data table notebook</a>'\n",
              "          + ' to learn more about interactive tables.';\n",
              "        element.innerHTML = '';\n",
              "        dataTable['output_type'] = 'display_data';\n",
              "        await google.colab.output.renderOutput(dataTable, element);\n",
              "        const docLink = document.createElement('div');\n",
              "        docLink.innerHTML = docLinkHtml;\n",
              "        element.appendChild(docLink);\n",
              "      }\n",
              "    </script>\n",
              "  </div>\n",
              "\n",
              "\n",
              "<div id=\"df-2a55c154-0c36-43b0-bb42-2231bdd86a01\">\n",
              "  <button class=\"colab-df-quickchart\" onclick=\"quickchart('df-2a55c154-0c36-43b0-bb42-2231bdd86a01')\"\n",
              "            title=\"Suggest charts\"\n",
              "            style=\"display:none;\">\n",
              "\n",
              "<svg xmlns=\"http://www.w3.org/2000/svg\" height=\"24px\"viewBox=\"0 0 24 24\"\n",
              "     width=\"24px\">\n",
              "    <g>\n",
              "        <path d=\"M19 3H5c-1.1 0-2 .9-2 2v14c0 1.1.9 2 2 2h14c1.1 0 2-.9 2-2V5c0-1.1-.9-2-2-2zM9 17H7v-7h2v7zm4 0h-2V7h2v10zm4 0h-2v-4h2v4z\"/>\n",
              "    </g>\n",
              "</svg>\n",
              "  </button>\n",
              "\n",
              "<style>\n",
              "  .colab-df-quickchart {\n",
              "      --bg-color: #E8F0FE;\n",
              "      --fill-color: #1967D2;\n",
              "      --hover-bg-color: #E2EBFA;\n",
              "      --hover-fill-color: #174EA6;\n",
              "      --disabled-fill-color: #AAA;\n",
              "      --disabled-bg-color: #DDD;\n",
              "  }\n",
              "\n",
              "  [theme=dark] .colab-df-quickchart {\n",
              "      --bg-color: #3B4455;\n",
              "      --fill-color: #D2E3FC;\n",
              "      --hover-bg-color: #434B5C;\n",
              "      --hover-fill-color: #FFFFFF;\n",
              "      --disabled-bg-color: #3B4455;\n",
              "      --disabled-fill-color: #666;\n",
              "  }\n",
              "\n",
              "  .colab-df-quickchart {\n",
              "    background-color: var(--bg-color);\n",
              "    border: none;\n",
              "    border-radius: 50%;\n",
              "    cursor: pointer;\n",
              "    display: none;\n",
              "    fill: var(--fill-color);\n",
              "    height: 32px;\n",
              "    padding: 0;\n",
              "    width: 32px;\n",
              "  }\n",
              "\n",
              "  .colab-df-quickchart:hover {\n",
              "    background-color: var(--hover-bg-color);\n",
              "    box-shadow: 0 1px 2px rgba(60, 64, 67, 0.3), 0 1px 3px 1px rgba(60, 64, 67, 0.15);\n",
              "    fill: var(--button-hover-fill-color);\n",
              "  }\n",
              "\n",
              "  .colab-df-quickchart-complete:disabled,\n",
              "  .colab-df-quickchart-complete:disabled:hover {\n",
              "    background-color: var(--disabled-bg-color);\n",
              "    fill: var(--disabled-fill-color);\n",
              "    box-shadow: none;\n",
              "  }\n",
              "\n",
              "  .colab-df-spinner {\n",
              "    border: 2px solid var(--fill-color);\n",
              "    border-color: transparent;\n",
              "    border-bottom-color: var(--fill-color);\n",
              "    animation:\n",
              "      spin 1s steps(1) infinite;\n",
              "  }\n",
              "\n",
              "  @keyframes spin {\n",
              "    0% {\n",
              "      border-color: transparent;\n",
              "      border-bottom-color: var(--fill-color);\n",
              "      border-left-color: var(--fill-color);\n",
              "    }\n",
              "    20% {\n",
              "      border-color: transparent;\n",
              "      border-left-color: var(--fill-color);\n",
              "      border-top-color: var(--fill-color);\n",
              "    }\n",
              "    30% {\n",
              "      border-color: transparent;\n",
              "      border-left-color: var(--fill-color);\n",
              "      border-top-color: var(--fill-color);\n",
              "      border-right-color: var(--fill-color);\n",
              "    }\n",
              "    40% {\n",
              "      border-color: transparent;\n",
              "      border-right-color: var(--fill-color);\n",
              "      border-top-color: var(--fill-color);\n",
              "    }\n",
              "    60% {\n",
              "      border-color: transparent;\n",
              "      border-right-color: var(--fill-color);\n",
              "    }\n",
              "    80% {\n",
              "      border-color: transparent;\n",
              "      border-right-color: var(--fill-color);\n",
              "      border-bottom-color: var(--fill-color);\n",
              "    }\n",
              "    90% {\n",
              "      border-color: transparent;\n",
              "      border-bottom-color: var(--fill-color);\n",
              "    }\n",
              "  }\n",
              "</style>\n",
              "\n",
              "  <script>\n",
              "    async function quickchart(key) {\n",
              "      const quickchartButtonEl =\n",
              "        document.querySelector('#' + key + ' button');\n",
              "      quickchartButtonEl.disabled = true;  // To prevent multiple clicks.\n",
              "      quickchartButtonEl.classList.add('colab-df-spinner');\n",
              "      try {\n",
              "        const charts = await google.colab.kernel.invokeFunction(\n",
              "            'suggestCharts', [key], {});\n",
              "      } catch (error) {\n",
              "        console.error('Error during call to suggestCharts:', error);\n",
              "      }\n",
              "      quickchartButtonEl.classList.remove('colab-df-spinner');\n",
              "      quickchartButtonEl.classList.add('colab-df-quickchart-complete');\n",
              "    }\n",
              "    (() => {\n",
              "      let quickchartButtonEl =\n",
              "        document.querySelector('#df-2a55c154-0c36-43b0-bb42-2231bdd86a01 button');\n",
              "      quickchartButtonEl.style.display =\n",
              "        google.colab.kernel.accessAllowed ? 'block' : 'none';\n",
              "    })();\n",
              "  </script>\n",
              "</div>\n",
              "\n",
              "  <div id=\"id_f0652918-7309-44b3-8c6d-7f8ab0457465\">\n",
              "    <style>\n",
              "      .colab-df-generate {\n",
              "        background-color: #E8F0FE;\n",
              "        border: none;\n",
              "        border-radius: 50%;\n",
              "        cursor: pointer;\n",
              "        display: none;\n",
              "        fill: #1967D2;\n",
              "        height: 32px;\n",
              "        padding: 0 0 0 0;\n",
              "        width: 32px;\n",
              "      }\n",
              "\n",
              "      .colab-df-generate:hover {\n",
              "        background-color: #E2EBFA;\n",
              "        box-shadow: 0px 1px 2px rgba(60, 64, 67, 0.3), 0px 1px 3px 1px rgba(60, 64, 67, 0.15);\n",
              "        fill: #174EA6;\n",
              "      }\n",
              "\n",
              "      [theme=dark] .colab-df-generate {\n",
              "        background-color: #3B4455;\n",
              "        fill: #D2E3FC;\n",
              "      }\n",
              "\n",
              "      [theme=dark] .colab-df-generate:hover {\n",
              "        background-color: #434B5C;\n",
              "        box-shadow: 0px 1px 3px 1px rgba(0, 0, 0, 0.15);\n",
              "        filter: drop-shadow(0px 1px 2px rgba(0, 0, 0, 0.3));\n",
              "        fill: #FFFFFF;\n",
              "      }\n",
              "    </style>\n",
              "    <button class=\"colab-df-generate\" onclick=\"generateWithVariable('df')\"\n",
              "            title=\"Generate code using this dataframe.\"\n",
              "            style=\"display:none;\">\n",
              "\n",
              "  <svg xmlns=\"http://www.w3.org/2000/svg\" height=\"24px\"viewBox=\"0 0 24 24\"\n",
              "       width=\"24px\">\n",
              "    <path d=\"M7,19H8.4L18.45,9,17,7.55,7,17.6ZM5,21V16.75L18.45,3.32a2,2,0,0,1,2.83,0l1.4,1.43a1.91,1.91,0,0,1,.58,1.4,1.91,1.91,0,0,1-.58,1.4L9.25,21ZM18.45,9,17,7.55Zm-12,3A5.31,5.31,0,0,0,4.9,8.1,5.31,5.31,0,0,0,1,6.5,5.31,5.31,0,0,0,4.9,4.9,5.31,5.31,0,0,0,6.5,1,5.31,5.31,0,0,0,8.1,4.9,5.31,5.31,0,0,0,12,6.5,5.46,5.46,0,0,0,6.5,12Z\"/>\n",
              "  </svg>\n",
              "    </button>\n",
              "    <script>\n",
              "      (() => {\n",
              "      const buttonEl =\n",
              "        document.querySelector('#id_f0652918-7309-44b3-8c6d-7f8ab0457465 button.colab-df-generate');\n",
              "      buttonEl.style.display =\n",
              "        google.colab.kernel.accessAllowed ? 'block' : 'none';\n",
              "\n",
              "      buttonEl.onclick = () => {\n",
              "        google.colab.notebook.generateWithVariable('df');\n",
              "      }\n",
              "      })();\n",
              "    </script>\n",
              "  </div>\n",
              "\n",
              "    </div>\n",
              "  </div>\n"
            ],
            "text/plain": [
              "                                               Judul         Kategori  \\\n",
              "0  Menagih Janji Sosialisasi Tol Solo-Jogja agar ...  tirto.id - News   \n",
              "1  Teladan Kesederhanaan Paus Fransiskus bagi Pej...  tirto.id - News   \n",
              "2  Nasib Kelas Menengah Rentan, Pemerintah Harusn...  tirto.id - News   \n",
              "3  Blunder Pramono Tawarkan Ide Jalan Layang Moto...  tirto.id - News   \n",
              "4  Menakar Kans Risma dan Luluk Colong Dominasi K...  tirto.id - News   \n",
              "5  Raih Penghargaan, Heru Budi Harus Tetap Jaga I...  tirto.id - News   \n",
              "6  Kunjungan Bersejarah Paus Fransiskus Merajut D...  tirto.id - News   \n",
              "7  Wacana DPR Mengevaluasi MK, Pembegalan Konstit...  tirto.id - News   \n",
              "8  Ide Parpol Baru Anies Baswedan Jangan Layu Seb...  tirto.id - News   \n",
              "9  Menyoal Sertifikasi Halal Truk Logistik yang K...  tirto.id - News   \n",
              "\n",
              "                        Tanggal  \\\n",
              "0  Terbit 4 Sep 2024 11:50 WIB,   \n",
              "1  Terbit 4 Sep 2024 10:00 WIB,   \n",
              "2  Terbit 4 Sep 2024 08:00 WIB,   \n",
              "3  Terbit 4 Sep 2024 07:00 WIB,   \n",
              "4  Terbit 4 Sep 2024 06:00 WIB,   \n",
              "5  Terbit 3 Sep 2024 13:36 WIB,   \n",
              "6  Terbit 3 Sep 2024 11:13 WIB,   \n",
              "7  Terbit 3 Sep 2024 08:00 WIB,   \n",
              "8  Terbit 3 Sep 2024 07:00 WIB,   \n",
              "9  Terbit 3 Sep 2024 06:00 WIB,   \n",
              "\n",
              "                                                 Isi  \n",
              "0  tirto.id - Tahapan pembangunan Tol Solo-Yogyak...  \n",
              "1  tirto.id - Paus Fransiskus tersenyum sambil me...  \n",
              "2  tirto.id - Badan Pusat Statistik (BPS) mencata...  \n",
              "3  tirto.id - Bakal calon Gubernur DKI Jakarta, P...  \n",
              "4  tirto.id - Pilkada Jatim 2024 menjadi gelangga...  \n",
              "5  tirto.id - Badan Pusat Statistik (BPS) DKI Jak...  \n",
              "6  tirto.id - Dua hari sebelum menjejakkan kaki d...  \n",
              "7  tirto.id - Rencana DPR RI mengevaluasi kinerja...  \n",
              "8  tirto.id - Lewat video berdurasi 14:44 menit, ...  \n",
              "9  tirto.id - Wacana penerapan sertifikasi halal ...  "
            ]
          },
          "execution_count": 68,
          "metadata": {},
          "output_type": "execute_result"
        }
      ],
      "source": [
        "df = pd.DataFrame(data_list)\n",
        "df"
      ]
    }
  ],
  "metadata": {
    "colab": {
      "provenance": []
    },
    "kernelspec": {
      "display_name": "Python 3",
      "name": "python3"
    },
    "language_info": {
      "name": "python"
    }
  },
  "nbformat": 4,
  "nbformat_minor": 0
}
